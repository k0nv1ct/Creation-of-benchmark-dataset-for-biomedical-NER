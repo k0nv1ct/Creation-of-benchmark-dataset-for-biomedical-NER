{
  "nbformat": 4,
  "nbformat_minor": 0,
  "metadata": {
    "colab": {
      "provenance": []
    },
    "kernelspec": {
      "name": "python3",
      "display_name": "Python 3"
    },
    "language_info": {
      "name": "python"
    }
  },
  "cells": [
    {
      "cell_type": "code",
      "execution_count": 1,
      "metadata": {
        "id": "DmykmcEY_UcM"
      },
      "outputs": [],
      "source": [
        "import requests\n",
        "import json\n",
        "\n",
        "# Replace these with your values\n",
        "your_project_id = 'numeric-ion-393603'\n",
        "your_location_id = 'us-central1'\n",
        "your_service_id = 'your_service_id'\n",
        "your_api_key = 'your_api_key'\n",
        "\n",
        "url = f\"https://healthcare.googleapis.com/v1beta1/projects/{your_project_id}/locations/{your_location_id}/services/nlp:analyzeEntities\"\n"
      ]
    },
    {
      "cell_type": "code",
      "source": [
        "from google.oauth2 import service_account\n",
        "import google.auth.transport.requests\n",
        "import requests\n",
        "import json\n",
        "\n",
        "# Path to your service account key file\n",
        "KEY_FILE = '/content/numeric-ion-393603-0d0575605119.json'\n",
        "\n",
        "# Load the credentials from the service account key file\n",
        "creds = service_account.Credentials.from_service_account_file(\n",
        "    KEY_FILE,\n",
        "    scopes=['https://www.googleapis.com/auth/cloud-platform']\n",
        ")\n",
        "\n",
        "# Create an HTTP authorized client using the credentials\n",
        "auth_request = google.auth.transport.requests.Request()\n",
        "creds.refresh(auth_request)\n",
        "\n"
      ],
      "metadata": {
        "id": "4HlTHTV_NCZO"
      },
      "execution_count": 2,
      "outputs": []
    },
    {
      "cell_type": "code",
      "source": [
        "# Add the token to the headers\n",
        "headers = {\n",
        "    'Content-Type': 'application/json',\n",
        "    'Accept': 'application/json',\n",
        "    'Authorization': 'Bearer {}'.format(creds.token)\n",
        "}\n",
        "text = 'OBSERVED CASE OF SQUAMOUS CELL CARCINOMA RIGHT dorsum foot x 31 may 1990 with WIDE EXCISION with SPLIT SKIN GRAFT with GROUND final HISTOPATHOLOGY REPORT - well differentiated SQUAMOUS CELL CARCINOMA , cut margin - free ALL 8 groin node free of metastatic disease by DOCTOR s ARTERIA PRADA precursor lesion - chronic lichenified dermatitis NOW pt complain ulceroproliferative growth at right side thigh x 4 MONTHS after itching outside BIOPSY - MODERATELY DIFFERENTIATED SQUAMOUS CELL CARCINOMA LESION EXCISION - 5x 3 cm ulceroproliferative growth at right thigh right inguinal scar present palpable node firm , APPROX 1.5 cm present advice- c CHEST RADIOGRAPH LIVER X RECEPTOR MAGNETIC RESONANCE IMAGING slide block review routine blood dressing'\n",
        "# Replace 'your_text' with the text you want to analyze\n",
        "data = {\n",
        "    'documentContent': text\n",
        "}\n",
        "\n",
        "# Specify the API endpoint URL\n",
        "url = url\n",
        "\n",
        "# Make a POST request to the API endpoint\n",
        "response = requests.post(url, headers=headers, data=json.dumps(data))\n",
        "\n",
        "# Get JSON response\n",
        "response_json = response.json()\n",
        "\n",
        "# Print the response\n",
        "print(response_json)\n"
      ],
      "metadata": {
        "colab": {
          "base_uri": "https://localhost:8080/"
        },
        "id": "wBvfMig8NEeV",
        "outputId": "1f9ec50d-7957-4e8c-d6e8-6f29a45cf0cf"
      },
      "execution_count": 3,
      "outputs": [
        {
          "output_type": "stream",
          "name": "stdout",
          "text": [
            "{'entityMentions': [{'mentionId': '1', 'type': 'ANATOMICAL_STRUCTURE', 'text': {'content': 'SQUAMOUS CELL', 'beginOffset': 17}, 'linkedEntities': [{'entityId': 'UMLS/C0221910'}], 'confidence': 0.37108901143074036}, {'mentionId': '2', 'type': 'PROBLEM', 'text': {'content': 'CARCINOMA', 'beginOffset': 31}, 'linkedEntities': [{'entityId': 'UMLS/C0007097'}], 'temporalAssessment': {'value': 'CURRENT', 'confidence': 0.7266263365745544}, 'certaintyAssessment': {'value': 'LIKELY', 'confidence': 0.8828955888748169}, 'subject': {'value': 'PATIENT', 'confidence': 0.9994209408760071}, 'confidence': 0.6681205034255981}, {'mentionId': '3', 'type': 'ANATOMICAL_STRUCTURE', 'text': {'content': 'foot', 'beginOffset': 54}, 'linkedEntities': [{'entityId': 'UMLS/C0016504'}, {'entityId': 'UMLS/C4299097'}], 'confidence': 0.8317325711250305}, {'mentionId': '4', 'type': 'ANATOMICAL_STRUCTURE', 'text': {'content': '1990', 'beginOffset': 68}, 'confidence': 0.3147028684616089}, {'mentionId': '5', 'type': 'PROCEDURE', 'text': {'content': 'EXCISION', 'beginOffset': 83}, 'linkedEntities': [{'entityId': 'UMLS/C0728940'}], 'temporalAssessment': {'value': 'CURRENT', 'confidence': 0.9402967095375061}, 'certaintyAssessment': {'value': 'LIKELY', 'confidence': 0.996714174747467}, 'subject': {'value': 'PATIENT', 'confidence': 0.9996049404144287}, 'confidence': 0.4206026792526245}, {'mentionId': '6', 'type': 'PROCEDURE', 'text': {'content': 'GRAFT', 'beginOffset': 108}, 'linkedEntities': [{'entityId': 'UMLS/C0005976'}, {'entityId': 'UMLS/C0010042'}, {'entityId': 'UMLS/C0018126'}, {'entityId': 'UMLS/C0018823'}, {'entityId': 'UMLS/C0022671'}], 'temporalAssessment': {'value': 'CURRENT', 'confidence': 0.9968308806419373}, 'certaintyAssessment': {'value': 'LIKELY', 'confidence': 0.9997064471244812}, 'subject': {'value': 'PATIENT', 'confidence': 0.9997310638427734}, 'confidence': 0.7815852761268616}, {'mentionId': '7', 'type': 'HISTOLOGICAL_GRADE', 'text': {'content': 'well differentiated', 'beginOffset': 156}, 'confidence': 0.9782329201698303}, {'mentionId': '8', 'type': 'ANATOMICAL_STRUCTURE', 'text': {'content': 'SQUAMOUS CELL', 'beginOffset': 176}, 'linkedEntities': [{'entityId': 'UMLS/C0221910'}], 'confidence': 0.7793248295783997}, {'mentionId': '9', 'type': 'PROBLEM', 'text': {'content': 'CARCINOMA', 'beginOffset': 190}, 'linkedEntities': [{'entityId': 'UMLS/C0007097'}], 'temporalAssessment': {'value': 'CURRENT', 'confidence': 0.9932897090911865}, 'certaintyAssessment': {'value': 'LIKELY', 'confidence': 0.9935872554779053}, 'subject': {'value': 'PATIENT', 'confidence': 0.9995375871658325}, 'confidence': 0.5115262866020203}, {'mentionId': '10', 'type': 'ANATOMICAL_STRUCTURE', 'text': {'content': 'groin node', 'beginOffset': 226}, 'linkedEntities': [{'entityId': 'UMLS/C0018246'}, {'entityId': 'UMLS/C0816951'}, {'entityId': 'UMLS/C4266533'}], 'confidence': 0.7050248384475708}, {'mentionId': '11', 'type': 'PROBLEM', 'text': {'content': 'metastatic disease', 'beginOffset': 245}, 'linkedEntities': [{'entityId': 'UMLS/C2939420'}], 'temporalAssessment': {'value': 'CURRENT', 'confidence': 0.9755558371543884}, 'certaintyAssessment': {'value': 'UNLIKELY', 'confidence': 0.9661492109298706}, 'subject': {'value': 'PATIENT', 'confidence': 0.9993366003036499}, 'confidence': 0.9869731068611145}, {'mentionId': '12', 'type': 'ANATOMICAL_STRUCTURE', 'text': {'content': 'PRADA', 'beginOffset': 284}, 'confidence': 0.5294839143753052}, {'mentionId': '13', 'type': 'PROBLEM', 'text': {'content': 'lesion', 'beginOffset': 300}, 'linkedEntities': [{'entityId': 'UMLS/C0221198'}], 'temporalAssessment': {'value': 'CURRENT', 'confidence': 0.9445757865905762}, 'certaintyAssessment': {'value': 'LIKELY', 'confidence': 0.9764094948768616}, 'subject': {'value': 'PATIENT', 'confidence': 0.9995728731155396}, 'confidence': 0.9406015872955322}, {'mentionId': '14', 'type': 'SEVERITY', 'text': {'content': 'chronic', 'beginOffset': 309}, 'linkedEntities': [{'entityId': 'UMLS/C0518656'}, {'entityId': 'UMLS/C0745188'}, {'entityId': 'UMLS/C0746367'}, {'entityId': 'UMLS/C1997771'}, {'entityId': 'UMLS/C2673788'}], 'confidence': 0.8137223124504089}, {'mentionId': '15', 'type': 'PROBLEM', 'text': {'content': 'lichenified dermatitis', 'beginOffset': 317}, 'linkedEntities': [{'entityId': 'UMLS/C0023653'}, {'entityId': 'UMLS/C0023654'}], 'temporalAssessment': {'value': 'CURRENT', 'confidence': 0.9979500770568848}, 'certaintyAssessment': {'value': 'LIKELY', 'confidence': 0.9996505379676819}, 'subject': {'value': 'PATIENT', 'confidence': 0.9996469616889954}, 'confidence': 0.8372518420219421}, {'mentionId': '16', 'type': 'PROBLEM', 'text': {'content': 'ulceroproliferative growth', 'beginOffset': 356}, 'linkedEntities': [{'entityId': 'UMLS/C1457898'}], 'temporalAssessment': {'value': 'CURRENT', 'confidence': 0.9919863343238831}, 'certaintyAssessment': {'value': 'LIKELY', 'confidence': 0.9176130890846252}, 'subject': {'value': 'PATIENT', 'confidence': 0.9996469616889954}, 'confidence': 0.8246108889579773}, {'mentionId': '17', 'type': 'ANATOMICAL_STRUCTURE', 'text': {'content': 'thigh', 'beginOffset': 397}, 'linkedEntities': [{'entityId': 'UMLS/C0039866'}, {'entityId': 'UMLS/C4299091'}], 'confidence': 0.9729898571968079}, {'mentionId': '18', 'type': 'PROBLEM', 'text': {'content': 'itching', 'beginOffset': 420}, 'linkedEntities': [{'entityId': 'UMLS/C0033774'}, {'entityId': 'UMLS/C3840668'}], 'temporalAssessment': {'value': 'CURRENT', 'confidence': 0.9740957617759705}, 'certaintyAssessment': {'value': 'LIKELY', 'confidence': 0.9983248710632324}, 'subject': {'value': 'PATIENT', 'confidence': 0.9996469616889954}, 'confidence': 0.8269253969192505}, {'mentionId': '19', 'type': 'PROCEDURE', 'text': {'content': 'BIOPSY', 'beginOffset': 436}, 'linkedEntities': [{'entityId': 'UMLS/C0005558'}], 'temporalAssessment': {'value': 'CURRENT', 'confidence': 0.057481713593006134}, 'certaintyAssessment': {'value': 'LIKELY', 'confidence': 0.057481713593006134}, 'subject': {'value': 'PATIENT', 'confidence': 0.057481713593006134}, 'confidence': 0.46249890327453613}, {'mentionId': '20', 'type': 'HISTOLOGICAL_GRADE', 'text': {'content': 'MODERATELY DIFFERENTIATED', 'beginOffset': 445}, 'confidence': 0.9274324178695679}, {'mentionId': '21', 'type': 'ANATOMICAL_STRUCTURE', 'text': {'content': 'SQUAMOUS CELL', 'beginOffset': 471}, 'linkedEntities': [{'entityId': 'UMLS/C0221910'}], 'confidence': 0.49997401237487793}, {'mentionId': '22', 'type': 'PROBLEM', 'text': {'content': 'CARCINOMA', 'beginOffset': 485}, 'linkedEntities': [{'entityId': 'UMLS/C0007097'}], 'temporalAssessment': {'value': 'CURRENT', 'confidence': 0.8090638518333435}, 'certaintyAssessment': {'value': 'LIKELY', 'confidence': 0.8815498948097229}, 'subject': {'value': 'PATIENT', 'confidence': 0.9977136254310608}, 'confidence': 0.48333337903022766}, {'mentionId': '23', 'type': 'DIMENSIONS', 'text': {'content': '5x 3 cm', 'beginOffset': 513}, 'confidence': 0.520143985748291}, {'mentionId': '24', 'type': 'PROBLEM', 'text': {'content': 'ulceroproliferative growth', 'beginOffset': 521}, 'linkedEntities': [{'entityId': 'UMLS/C1457898'}], 'temporalAssessment': {'value': 'CURRENT', 'confidence': 0.9966802000999451}, 'certaintyAssessment': {'value': 'LIKELY', 'confidence': 0.9984841346740723}, 'subject': {'value': 'PATIENT', 'confidence': 0.9997310638427734}, 'confidence': 0.818226158618927}, {'mentionId': '25', 'type': 'ANATOMICAL_STRUCTURE', 'text': {'content': 'thigh', 'beginOffset': 557}, 'linkedEntities': [{'entityId': 'UMLS/C0039866'}, {'entityId': 'UMLS/C4299091'}], 'confidence': 0.9666429758071899}, {'mentionId': '26', 'type': 'PROBLEM', 'text': {'content': 'inguinal scar', 'beginOffset': 569}, 'linkedEntities': [{'entityId': 'UMLS/C0008767'}, {'entityId': 'UMLS/C0241158'}, {'entityId': 'UMLS/C2004491'}], 'temporalAssessment': {'value': 'CURRENT', 'confidence': 0.9953276515007019}, 'certaintyAssessment': {'value': 'LIKELY', 'confidence': 0.993929922580719}, 'subject': {'value': 'PATIENT', 'confidence': 0.9995787739753723}, 'confidence': 0.8382587432861328}, {'mentionId': '27', 'type': 'ANATOMICAL_STRUCTURE', 'text': {'content': 'node', 'beginOffset': 600}, 'linkedEntities': [{'entityId': 'UMLS/C0746922'}], 'confidence': 0.5397259593009949}, {'mentionId': '28', 'type': 'ANATOMICAL_STRUCTURE', 'text': {'content': 'CHEST', 'beginOffset': 644}, 'linkedEntities': [{'entityId': 'UMLS/C0817096'}], 'confidence': 0.7626113891601562}, {'mentionId': '29', 'type': 'ANATOMICAL_STRUCTURE', 'text': {'content': 'LIVER', 'beginOffset': 661}, 'linkedEntities': [{'entityId': 'UMLS/C0023884'}, {'entityId': 'UMLS/C4037986'}], 'confidence': 0.5667116641998291}, {'mentionId': '30', 'type': 'PROCEDURE', 'text': {'content': 'IMAGING slide block', 'beginOffset': 697}, 'linkedEntities': [{'entityId': 'UMLS/C1441469'}, {'entityId': 'UMLS/C5206699'}], 'temporalAssessment': {'value': 'CURRENT', 'confidence': 0.9992013573646545}, 'certaintyAssessment': {'value': 'LIKELY', 'confidence': 0.9995808005332947}, 'subject': {'value': 'PATIENT', 'confidence': 0.9996469616889954}, 'confidence': 0.5564936995506287}, {'mentionId': '31', 'type': 'MEDICAL_DEVICE', 'text': {'content': 'blood dressing', 'beginOffset': 732}, 'linkedEntities': [{'entityId': 'UMLS/C0013119'}, {'entityId': 'UMLS/C1705365'}], 'temporalAssessment': {'value': 'CURRENT', 'confidence': 0.9944130778312683}, 'certaintyAssessment': {'value': 'LIKELY', 'confidence': 0.9995671510696411}, 'subject': {'value': 'PATIENT', 'confidence': 0.9996469616889954}, 'confidence': 0.4954633414745331}], 'entities': [{'entityId': 'UMLS/C0005558', 'preferredTerm': 'Biopsy', 'vocabularyCodes': ['LNC/LA15393-4', 'LNC/LA3911-0', 'LNC/LP200041-4', 'LNC/LP68311-7', 'LNC/MTHU028106', 'MEDLINEPLUS/5921', 'MSH/D001706', 'MTH/NOCODE', 'NCI/C15189']}, {'entityId': 'UMLS/C0005976', 'preferredTerm': 'Bone Transplantation', 'vocabularyCodes': ['ICD9CM/78.0', 'ICD9CM/78.00', 'MSH/D016025', 'MTH/NOCODE', 'NCI/C116464']}, {'entityId': 'UMLS/C0007097', 'preferredTerm': 'Carcinoma', 'vocabularyCodes': ['HPO/HP:0030731', 'LNC/LA15448-6', 'MEDLINEPLUS/25', 'MSH/D002277', 'MTH/NOCODE', 'NCI/C2916']}, {'entityId': 'UMLS/C0008767', 'preferredTerm': 'Cicatrization', 'vocabularyCodes': ['HPO/HP:0100699', 'LNC/LA19047-2', 'LNC/LA7471-1', 'MSH/D002921', 'MTH/NOCODE']}, {'entityId': 'UMLS/C0010042', 'preferredTerm': 'Keratoplasty', 'vocabularyCodes': ['ICD9CM/11.6', 'ICD9CM/11.60', 'MSH/D016039', 'MTH/NOCODE', 'NCI/C50514']}, {'entityId': 'UMLS/C0013119', 'preferredTerm': 'Medical dressing', 'vocabularyCodes': ['LNC/LA29018-1', 'LNC/LP35124-4', 'LNC/MTHU013542', 'MSH/D001458', 'MTH/NOCODE', 'VANDF/4023818']}, {'entityId': 'UMLS/C0016504', 'preferredTerm': 'Foot', 'vocabularyCodes': ['FMA/9664', 'LNC/LP221475-9', 'LNC/LP7245-6', 'LNC/MTHU002679', 'MSH/D005528', 'MTH/NOCODE', 'NCI/C32622', 'OMIM/MTHU000075']}, {'entityId': 'UMLS/C0018126', 'preferredTerm': 'Graft Enhancement', 'vocabularyCodes': ['MSH/D006082']}, {'entityId': 'UMLS/C0018246', 'preferredTerm': 'Inguinal region', 'vocabularyCodes': ['FMA/321947', 'LNC/LP208120-8', 'LNC/LP7278-7', 'LNC/MTHU002684', 'MSH/D006119', 'MTH/NOCODE', 'NCI/C12726']}, {'entityId': 'UMLS/C0018823', 'preferredTerm': 'Heart Transplantation', 'vocabularyCodes': ['ICD9CM/37.51', 'LNC/LA25532-5', 'LNC/LA28294-9', 'MEDLINEPLUS/278', 'MSH/D016027', 'MTH/NOCODE', 'NCI/C15246']}, {'entityId': 'UMLS/C0022671', 'preferredTerm': 'Kidney Transplantation', 'vocabularyCodes': ['ICD9CM/55.6', 'LNC/LA28296-4', 'MEDLINEPLUS/1299', 'MSH/D016030', 'MTH/NOCODE', 'NCI/C15265', 'OMIM/MTHU017989', 'OMIM/MTHU072028']}, {'entityId': 'UMLS/C0023653', 'preferredTerm': 'Lichenification', 'vocabularyCodes': ['HPO/HP:0100725', 'MTH/NOCODE', 'NCI/C111974', 'OMIM/MTHU038847']}, {'entityId': 'UMLS/C0023654', 'preferredTerm': 'Lichenification and lichen simplex chronicus', 'vocabularyCodes': ['ICD9CM/698.3', 'MTH/NOCODE']}, {'entityId': 'UMLS/C0023884', 'preferredTerm': 'Liver', 'vocabularyCodes': ['FMA/7197', 'LNC/LA4584-4', 'LNC/LP199933-5', 'LNC/LP29289-3', 'LNC/LP7400-7', 'LNC/MTHU002039', 'LNC/MTHU065906', 'MSH/D008099', 'MTH/U002051', 'NCI/C12392', 'OMIM/MTHU000220']}, {'entityId': 'UMLS/C0033774', 'preferredTerm': 'Pruritus', 'vocabularyCodes': ['HPO/HP:0000989', 'ICD9CM/698.9', 'LNC/LA20641-9', 'MEDLINEPLUS/3067', 'MSH/D011537', 'MTH/619', 'MTH/NOCODE', 'NCI/C3344', 'NCI/C35101', 'OMIM/MTHU037280', 'OMIM/MTHU039444', 'OMIM/MTHU041455', 'OMIM/MTHU069734']}, {'entityId': 'UMLS/C0039866', 'preferredTerm': 'Thigh structure', 'vocabularyCodes': ['FMA/24967', 'LNC/LA25779-2', 'LNC/LP206655-5', 'LNC/LP7625-9', 'LNC/MTHU002690', 'MSH/D013848', 'MTH/NOCODE', 'NCI/C33763']}, {'entityId': 'UMLS/C0221198', 'preferredTerm': 'Lesion', 'vocabularyCodes': ['MTH/NOCODE', 'NCI/C3824']}, {'entityId': 'UMLS/C0221910', 'preferredTerm': 'Squamous Epithelial Cells', 'vocabularyCodes': ['FMA/326463', 'FMA/66769', 'LNC/LA12891-0', 'LNC/LP70260-2', 'LNC/MTHU027141', 'MSH/D004847', 'MTH/NOCODE', 'NCI/C12849']}, {'entityId': 'UMLS/C0241158', 'preferredTerm': 'Scar Tissue', 'vocabularyCodes': ['HPO/HP:0100699', 'LNC/LP30552-1', 'LNC/MTHU015067', 'MEDLINEPLUS/3195', 'MTH/NOCODE', 'NCI/C50737']}, {'entityId': 'UMLS/C0518656', 'preferredTerm': 'Chronic fatigue', 'vocabularyCodes': ['HPO/HP:0012432']}, {'entityId': 'UMLS/C0728940', 'preferredTerm': 'Excision', 'vocabularyCodes': ['LNC/LA17736-2', 'LNC/LA8951-1', 'LNC/LP207803-0', 'LNC/MTHU052930', 'MTH/NOCODE', 'NCI/C15232']}, {'entityId': 'UMLS/C0745188', 'preferredTerm': 'Chronic hypoxemia', 'vocabularyCodes': ['OMIM/MTHU031698']}, {'entityId': 'UMLS/C0746367', 'preferredTerm': 'Chronic malnutrition', 'vocabularyCodes': ['OMIM/MTHU005168']}, {'entityId': 'UMLS/C0746922', 'preferredTerm': 'Anatomic Node', 'vocabularyCodes': ['MTH/NOCODE', 'NCI/C45804']}, {'entityId': 'UMLS/C0816951', 'preferredTerm': 'Inguinal part of abdomen', 'vocabularyCodes': ['FMA/24040', 'MTH/NOCODE', 'NCI/C176977']}, {'entityId': 'UMLS/C0817096', 'preferredTerm': 'Chest', 'vocabularyCodes': ['FMA/9576', 'LNC/LA18111-7', 'LNC/LA22229-1', 'LNC/LP199962-4', 'LNC/LP7138-3', 'LNC/LP7628-3', 'LNC/LP7630-9', 'LNC/MTHU002671', 'LNC/MTHU002925', 'MSH/D013909', 'MTH/NOCODE', 'NCI/C12799', 'NCI/C13360', 'NCI/C25389', 'OMIM/MTHU000077']}, {'entityId': 'UMLS/C1441469', 'preferredTerm': 'Slide agglutination', 'vocabularyCodes': ['LNC/LP31266-7']}, {'entityId': 'UMLS/C1457898', 'preferredTerm': 'Growth & development aspects', 'vocabularyCodes': ['MSH/Q000254', 'MTH/NOCODE']}, {'entityId': 'UMLS/C1705365', 'preferredTerm': 'Dressing Dosage Form', 'vocabularyCodes': ['MTH/NOCODE', 'NCI/C42763']}, {'entityId': 'UMLS/C1997771', 'preferredTerm': 'Chronic hypercapnia', 'vocabularyCodes': ['OMIM/MTHU031699']}, {'entityId': 'UMLS/C2004491', 'preferredTerm': 'Cicatrix', 'vocabularyCodes': ['LNC/LA24887-4', 'MEDLINEPLUS/3195', 'MSH/D002921', 'MTH/NOCODE', 'NCI/C34483', 'OMIM/MTHU010020']}, {'entityId': 'UMLS/C2673788', 'preferredTerm': 'Chronic tearing', 'vocabularyCodes': ['OMIM/MTHU023532']}, {'entityId': 'UMLS/C2939420', 'preferredTerm': 'Metastatic Neoplasm', 'vocabularyCodes': ['LNC/LA28289-9', 'MTH/NOCODE', 'NCI/C3261']}, {'entityId': 'UMLS/C3840668', 'preferredTerm': 'Itchiness', 'vocabularyCodes': ['LNC/LA16272-9']}, {'entityId': 'UMLS/C4037986', 'preferredTerm': 'Abdomen>Liver', 'vocabularyCodes': ['LNC/LP191611-5', 'LNC/MTHU048559', 'MTH/NOCODE']}, {'entityId': 'UMLS/C4266533', 'preferredTerm': 'Pelvis>Groin', 'vocabularyCodes': ['LNC/LP208121-6', 'LNC/MTHU051728', 'MTH/NOCODE']}, {'entityId': 'UMLS/C4299091', 'preferredTerm': 'Lower extremity>Thigh', 'vocabularyCodes': ['LNC/LP231794-1', 'LNC/MTHU053755', 'MTH/NOCODE']}, {'entityId': 'UMLS/C4299097', 'preferredTerm': 'Lower extremity>Foot', 'vocabularyCodes': ['LNC/LP221466-8', 'LNC/MTHU053757', 'MTH/NOCODE']}, {'entityId': 'UMLS/C5206699', 'preferredTerm': 'QC Slide Review', 'vocabularyCodes': ['NCI/C162621']}], 'relationships': [{'subjectId': '11', 'objectId': '12', 'confidence': 0.6011788249015808}, {'subjectId': '13', 'objectId': '12', 'confidence': 0.6891977787017822}, {'subjectId': '15', 'objectId': '14', 'confidence': 0.9987543225288391}, {'subjectId': '16', 'objectId': '17', 'confidence': 0.9995391964912415}, {'subjectId': '2', 'objectId': '3', 'confidence': 0.9992805123329163}, {'subjectId': '2', 'objectId': '4', 'confidence': 0.9923208355903625}, {'subjectId': '24', 'objectId': '25', 'confidence': 0.9988089799880981}, {'subjectId': '26', 'objectId': '25', 'confidence': 0.7546519041061401}, {'subjectId': '9', 'objectId': '8', 'confidence': 0.9987277388572693}]}\n"
          ]
        }
      ]
    },
    {
      "cell_type": "code",
      "source": [
        "x = response_json"
      ],
      "metadata": {
        "id": "u68vNwuDNGPI"
      },
      "execution_count": 4,
      "outputs": []
    },
    {
      "cell_type": "code",
      "source": [
        "def get_data(x):\n",
        "\n",
        "    data = []\n",
        "\n",
        "    if 'entityMentions' in x:\n",
        "        for entity in x['entityMentions']:\n",
        "            id_val = entity['mentionId']\n",
        "            entity_type_val = entity['type']\n",
        "            text_val = entity['text']['content']\n",
        "            conf = entity['confidence']\n",
        "\n",
        "            linked_entity_id = []\n",
        "            if 'entityMentions' in x:\n",
        "              for entity in x['entityMentions']:\n",
        "                if 'linkedEntities' in entity:\n",
        "                  id = entity['mentionId']\n",
        "                  text = entity['text']['content']\n",
        "                  linked_id = entity['linkedEntities']\n",
        "                  for ids in linked_id:\n",
        "                    linked_entity_id.append([id,text,ids['entityId']])\n",
        "                  linked_entities = []\n",
        "                  if len(linked_entity_id) != 0:\n",
        "                    for ids in linked_entity_id:\n",
        "                      id = ids[0]\n",
        "                      entity_id = ids[2]\n",
        "                      text = ids[1]\n",
        "                      for entities in x['entities']:\n",
        "                        if entities['entityId'] == entity_id:\n",
        "                          term = entities['preferredTerm']\n",
        "                          linked_entities.append([id,text,term,entity_id])\n",
        "\n",
        "            related_entities = []\n",
        "            if 'relationships' in x:\n",
        "              for relations in x['relationships']:\n",
        "                related_entities.append([relations['subjectId'],relations['objectId']])\n",
        "              relationship = []\n",
        "              if len(related_entities) != 0:\n",
        "                relationship = []\n",
        "                for ids in related_entities:\n",
        "                    id1 = ids[0]\n",
        "                    id2 = ids[1]\n",
        "                    text1 = None  # Initialize text1\n",
        "                    text2 = None  # Initialize text2\n",
        "                    for entity in x['entityMentions']:\n",
        "                        if entity['mentionId'] == str(id1):\n",
        "                            text1 = entity['text']['content']\n",
        "                        if entity['mentionId'] == str(id2):\n",
        "                            text2 = entity['text']['content']\n",
        "\n",
        "                    relationship.append([id1, text1, id2, text2])\n",
        "\n",
        "            data.append({\n",
        "                'id': id_val,\n",
        "                'entity_type': entity_type_val,\n",
        "                'text': text_val,\n",
        "                'confidence':conf,\n",
        "                'linked from id': id,\n",
        "                'linked from text': text,\n",
        "                'linked to id': entity_id,\n",
        "                'linked to term': term,\n",
        "                'related from id': id1,\n",
        "                'related from': text1,\n",
        "                'related to id': id2,\n",
        "                'related to term': text2\n",
        "                })\n",
        "\n",
        "\n",
        "    return data\n",
        "\n",
        ""
      ],
      "metadata": {
        "id": "Zrfx3y9YNK5k"
      },
      "execution_count": 12,
      "outputs": []
    },
    {
      "cell_type": "code",
      "source": [
        "import pandas as pd"
      ],
      "metadata": {
        "id": "ucOe-6dIPqfk"
      },
      "execution_count": 14,
      "outputs": []
    },
    {
      "cell_type": "code",
      "source": [
        "print(get_data(x))"
      ],
      "metadata": {
        "colab": {
          "base_uri": "https://localhost:8080/"
        },
        "id": "NSqnznDZN5uK",
        "outputId": "dfdb6e12-6ed1-4b50-bf3c-7b831f14baf2"
      },
      "execution_count": 13,
      "outputs": [
        {
          "output_type": "stream",
          "name": "stdout",
          "text": [
            "[{'id': '1', 'entity_type': 'ANATOMICAL_STRUCTURE', 'text': 'SQUAMOUS CELL', 'confidence': 0.37108901143074036, 'linked from id': '31', 'linked from text': 'blood dressing', 'linked to id': 'UMLS/C1705365', 'linked to term': 'Dressing Dosage Form', 'related from id': '9', 'related from': 'CARCINOMA', 'related to id': '8', 'related to term': 'SQUAMOUS CELL'}, {'id': '2', 'entity_type': 'PROBLEM', 'text': 'CARCINOMA', 'confidence': 0.6681205034255981, 'linked from id': '31', 'linked from text': 'blood dressing', 'linked to id': 'UMLS/C1705365', 'linked to term': 'Dressing Dosage Form', 'related from id': '9', 'related from': 'CARCINOMA', 'related to id': '8', 'related to term': 'SQUAMOUS CELL'}, {'id': '3', 'entity_type': 'ANATOMICAL_STRUCTURE', 'text': 'foot', 'confidence': 0.8317325711250305, 'linked from id': '31', 'linked from text': 'blood dressing', 'linked to id': 'UMLS/C1705365', 'linked to term': 'Dressing Dosage Form', 'related from id': '9', 'related from': 'CARCINOMA', 'related to id': '8', 'related to term': 'SQUAMOUS CELL'}, {'id': '4', 'entity_type': 'ANATOMICAL_STRUCTURE', 'text': '1990', 'confidence': 0.3147028684616089, 'linked from id': '31', 'linked from text': 'blood dressing', 'linked to id': 'UMLS/C1705365', 'linked to term': 'Dressing Dosage Form', 'related from id': '9', 'related from': 'CARCINOMA', 'related to id': '8', 'related to term': 'SQUAMOUS CELL'}, {'id': '5', 'entity_type': 'PROCEDURE', 'text': 'EXCISION', 'confidence': 0.4206026792526245, 'linked from id': '31', 'linked from text': 'blood dressing', 'linked to id': 'UMLS/C1705365', 'linked to term': 'Dressing Dosage Form', 'related from id': '9', 'related from': 'CARCINOMA', 'related to id': '8', 'related to term': 'SQUAMOUS CELL'}, {'id': '6', 'entity_type': 'PROCEDURE', 'text': 'GRAFT', 'confidence': 0.7815852761268616, 'linked from id': '31', 'linked from text': 'blood dressing', 'linked to id': 'UMLS/C1705365', 'linked to term': 'Dressing Dosage Form', 'related from id': '9', 'related from': 'CARCINOMA', 'related to id': '8', 'related to term': 'SQUAMOUS CELL'}, {'id': '7', 'entity_type': 'HISTOLOGICAL_GRADE', 'text': 'well differentiated', 'confidence': 0.9782329201698303, 'linked from id': '31', 'linked from text': 'blood dressing', 'linked to id': 'UMLS/C1705365', 'linked to term': 'Dressing Dosage Form', 'related from id': '9', 'related from': 'CARCINOMA', 'related to id': '8', 'related to term': 'SQUAMOUS CELL'}, {'id': '8', 'entity_type': 'ANATOMICAL_STRUCTURE', 'text': 'SQUAMOUS CELL', 'confidence': 0.7793248295783997, 'linked from id': '31', 'linked from text': 'blood dressing', 'linked to id': 'UMLS/C1705365', 'linked to term': 'Dressing Dosage Form', 'related from id': '9', 'related from': 'CARCINOMA', 'related to id': '8', 'related to term': 'SQUAMOUS CELL'}, {'id': '9', 'entity_type': 'PROBLEM', 'text': 'CARCINOMA', 'confidence': 0.5115262866020203, 'linked from id': '31', 'linked from text': 'blood dressing', 'linked to id': 'UMLS/C1705365', 'linked to term': 'Dressing Dosage Form', 'related from id': '9', 'related from': 'CARCINOMA', 'related to id': '8', 'related to term': 'SQUAMOUS CELL'}, {'id': '10', 'entity_type': 'ANATOMICAL_STRUCTURE', 'text': 'groin node', 'confidence': 0.7050248384475708, 'linked from id': '31', 'linked from text': 'blood dressing', 'linked to id': 'UMLS/C1705365', 'linked to term': 'Dressing Dosage Form', 'related from id': '9', 'related from': 'CARCINOMA', 'related to id': '8', 'related to term': 'SQUAMOUS CELL'}, {'id': '11', 'entity_type': 'PROBLEM', 'text': 'metastatic disease', 'confidence': 0.9869731068611145, 'linked from id': '31', 'linked from text': 'blood dressing', 'linked to id': 'UMLS/C1705365', 'linked to term': 'Dressing Dosage Form', 'related from id': '9', 'related from': 'CARCINOMA', 'related to id': '8', 'related to term': 'SQUAMOUS CELL'}, {'id': '12', 'entity_type': 'ANATOMICAL_STRUCTURE', 'text': 'PRADA', 'confidence': 0.5294839143753052, 'linked from id': '31', 'linked from text': 'blood dressing', 'linked to id': 'UMLS/C1705365', 'linked to term': 'Dressing Dosage Form', 'related from id': '9', 'related from': 'CARCINOMA', 'related to id': '8', 'related to term': 'SQUAMOUS CELL'}, {'id': '13', 'entity_type': 'PROBLEM', 'text': 'lesion', 'confidence': 0.9406015872955322, 'linked from id': '31', 'linked from text': 'blood dressing', 'linked to id': 'UMLS/C1705365', 'linked to term': 'Dressing Dosage Form', 'related from id': '9', 'related from': 'CARCINOMA', 'related to id': '8', 'related to term': 'SQUAMOUS CELL'}, {'id': '14', 'entity_type': 'SEVERITY', 'text': 'chronic', 'confidence': 0.8137223124504089, 'linked from id': '31', 'linked from text': 'blood dressing', 'linked to id': 'UMLS/C1705365', 'linked to term': 'Dressing Dosage Form', 'related from id': '9', 'related from': 'CARCINOMA', 'related to id': '8', 'related to term': 'SQUAMOUS CELL'}, {'id': '15', 'entity_type': 'PROBLEM', 'text': 'lichenified dermatitis', 'confidence': 0.8372518420219421, 'linked from id': '31', 'linked from text': 'blood dressing', 'linked to id': 'UMLS/C1705365', 'linked to term': 'Dressing Dosage Form', 'related from id': '9', 'related from': 'CARCINOMA', 'related to id': '8', 'related to term': 'SQUAMOUS CELL'}, {'id': '16', 'entity_type': 'PROBLEM', 'text': 'ulceroproliferative growth', 'confidence': 0.8246108889579773, 'linked from id': '31', 'linked from text': 'blood dressing', 'linked to id': 'UMLS/C1705365', 'linked to term': 'Dressing Dosage Form', 'related from id': '9', 'related from': 'CARCINOMA', 'related to id': '8', 'related to term': 'SQUAMOUS CELL'}, {'id': '17', 'entity_type': 'ANATOMICAL_STRUCTURE', 'text': 'thigh', 'confidence': 0.9729898571968079, 'linked from id': '31', 'linked from text': 'blood dressing', 'linked to id': 'UMLS/C1705365', 'linked to term': 'Dressing Dosage Form', 'related from id': '9', 'related from': 'CARCINOMA', 'related to id': '8', 'related to term': 'SQUAMOUS CELL'}, {'id': '18', 'entity_type': 'PROBLEM', 'text': 'itching', 'confidence': 0.8269253969192505, 'linked from id': '31', 'linked from text': 'blood dressing', 'linked to id': 'UMLS/C1705365', 'linked to term': 'Dressing Dosage Form', 'related from id': '9', 'related from': 'CARCINOMA', 'related to id': '8', 'related to term': 'SQUAMOUS CELL'}, {'id': '19', 'entity_type': 'PROCEDURE', 'text': 'BIOPSY', 'confidence': 0.46249890327453613, 'linked from id': '31', 'linked from text': 'blood dressing', 'linked to id': 'UMLS/C1705365', 'linked to term': 'Dressing Dosage Form', 'related from id': '9', 'related from': 'CARCINOMA', 'related to id': '8', 'related to term': 'SQUAMOUS CELL'}, {'id': '20', 'entity_type': 'HISTOLOGICAL_GRADE', 'text': 'MODERATELY DIFFERENTIATED', 'confidence': 0.9274324178695679, 'linked from id': '31', 'linked from text': 'blood dressing', 'linked to id': 'UMLS/C1705365', 'linked to term': 'Dressing Dosage Form', 'related from id': '9', 'related from': 'CARCINOMA', 'related to id': '8', 'related to term': 'SQUAMOUS CELL'}, {'id': '21', 'entity_type': 'ANATOMICAL_STRUCTURE', 'text': 'SQUAMOUS CELL', 'confidence': 0.49997401237487793, 'linked from id': '31', 'linked from text': 'blood dressing', 'linked to id': 'UMLS/C1705365', 'linked to term': 'Dressing Dosage Form', 'related from id': '9', 'related from': 'CARCINOMA', 'related to id': '8', 'related to term': 'SQUAMOUS CELL'}, {'id': '22', 'entity_type': 'PROBLEM', 'text': 'CARCINOMA', 'confidence': 0.48333337903022766, 'linked from id': '31', 'linked from text': 'blood dressing', 'linked to id': 'UMLS/C1705365', 'linked to term': 'Dressing Dosage Form', 'related from id': '9', 'related from': 'CARCINOMA', 'related to id': '8', 'related to term': 'SQUAMOUS CELL'}, {'id': '23', 'entity_type': 'DIMENSIONS', 'text': '5x 3 cm', 'confidence': 0.520143985748291, 'linked from id': '31', 'linked from text': 'blood dressing', 'linked to id': 'UMLS/C1705365', 'linked to term': 'Dressing Dosage Form', 'related from id': '9', 'related from': 'CARCINOMA', 'related to id': '8', 'related to term': 'SQUAMOUS CELL'}, {'id': '24', 'entity_type': 'PROBLEM', 'text': 'ulceroproliferative growth', 'confidence': 0.818226158618927, 'linked from id': '31', 'linked from text': 'blood dressing', 'linked to id': 'UMLS/C1705365', 'linked to term': 'Dressing Dosage Form', 'related from id': '9', 'related from': 'CARCINOMA', 'related to id': '8', 'related to term': 'SQUAMOUS CELL'}, {'id': '25', 'entity_type': 'ANATOMICAL_STRUCTURE', 'text': 'thigh', 'confidence': 0.9666429758071899, 'linked from id': '31', 'linked from text': 'blood dressing', 'linked to id': 'UMLS/C1705365', 'linked to term': 'Dressing Dosage Form', 'related from id': '9', 'related from': 'CARCINOMA', 'related to id': '8', 'related to term': 'SQUAMOUS CELL'}, {'id': '26', 'entity_type': 'PROBLEM', 'text': 'inguinal scar', 'confidence': 0.8382587432861328, 'linked from id': '31', 'linked from text': 'blood dressing', 'linked to id': 'UMLS/C1705365', 'linked to term': 'Dressing Dosage Form', 'related from id': '9', 'related from': 'CARCINOMA', 'related to id': '8', 'related to term': 'SQUAMOUS CELL'}, {'id': '27', 'entity_type': 'ANATOMICAL_STRUCTURE', 'text': 'node', 'confidence': 0.5397259593009949, 'linked from id': '31', 'linked from text': 'blood dressing', 'linked to id': 'UMLS/C1705365', 'linked to term': 'Dressing Dosage Form', 'related from id': '9', 'related from': 'CARCINOMA', 'related to id': '8', 'related to term': 'SQUAMOUS CELL'}, {'id': '28', 'entity_type': 'ANATOMICAL_STRUCTURE', 'text': 'CHEST', 'confidence': 0.7626113891601562, 'linked from id': '31', 'linked from text': 'blood dressing', 'linked to id': 'UMLS/C1705365', 'linked to term': 'Dressing Dosage Form', 'related from id': '9', 'related from': 'CARCINOMA', 'related to id': '8', 'related to term': 'SQUAMOUS CELL'}, {'id': '29', 'entity_type': 'ANATOMICAL_STRUCTURE', 'text': 'LIVER', 'confidence': 0.5667116641998291, 'linked from id': '31', 'linked from text': 'blood dressing', 'linked to id': 'UMLS/C1705365', 'linked to term': 'Dressing Dosage Form', 'related from id': '9', 'related from': 'CARCINOMA', 'related to id': '8', 'related to term': 'SQUAMOUS CELL'}, {'id': '30', 'entity_type': 'PROCEDURE', 'text': 'IMAGING slide block', 'confidence': 0.5564936995506287, 'linked from id': '31', 'linked from text': 'blood dressing', 'linked to id': 'UMLS/C1705365', 'linked to term': 'Dressing Dosage Form', 'related from id': '9', 'related from': 'CARCINOMA', 'related to id': '8', 'related to term': 'SQUAMOUS CELL'}, {'id': '31', 'entity_type': 'MEDICAL_DEVICE', 'text': 'blood dressing', 'confidence': 0.4954633414745331, 'linked from id': '31', 'linked from text': 'blood dressing', 'linked to id': 'UMLS/C1705365', 'linked to term': 'Dressing Dosage Form', 'related from id': '9', 'related from': 'CARCINOMA', 'related to id': '8', 'related to term': 'SQUAMOUS CELL'}]\n"
          ]
        }
      ]
    },
    {
      "cell_type": "code",
      "source": [
        "df1 = pd.DataFrame(get_data(x))"
      ],
      "metadata": {
        "id": "1D62P_5-N9bW"
      },
      "execution_count": 15,
      "outputs": []
    },
    {
      "cell_type": "code",
      "source": [
        "df1.to_csv('sample.csv')"
      ],
      "metadata": {
        "id": "wJ7fMP7GPs5E"
      },
      "execution_count": 17,
      "outputs": []
    },
    {
      "cell_type": "code",
      "source": [
        "import ast"
      ],
      "metadata": {
        "id": "Lh-kadRPVW1q"
      },
      "execution_count": null,
      "outputs": []
    },
    {
      "cell_type": "code",
      "source": [
        "# Convert the string representation of dictionary to actual dictionary in 'NER' column.\n",
        "df['NER'] = df['NER'].apply(ast.literal_eval)"
      ],
      "metadata": {
        "id": "kU0SPpWOWI0n"
      },
      "execution_count": null,
      "outputs": []
    },
    {
      "cell_type": "code",
      "source": [
        "df['entities'] = df['NER'].apply(lambda x: get_data(x))\n",
        "# Explode the list into separate rows\n",
        "df = df.explode('entities')\n",
        "\n",
        "# Convert dictionaries into separate columns\n",
        "df = pd.concat([df.drop(['entities'], axis=1), df['entities'].apply(pd.Series)], axis=1)"
      ],
      "metadata": {
        "id": "RkaQ95CiPt8G"
      },
      "execution_count": null,
      "outputs": []
    }
  ]
}